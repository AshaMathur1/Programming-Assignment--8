{
 "cells": [
  {
   "cell_type": "markdown",
   "id": "ae84871c",
   "metadata": {},
   "source": [
    "\n",
    "\n",
    "        "
   ]
  },
  {
   "cell_type": "code",
   "execution_count": 8,
   "id": "4174d8d8",
   "metadata": {},
   "outputs": [
    {
     "name": "stdout",
     "output_type": "stream",
     "text": [
      "Enter no of rows :2\n",
      "Enter no of columns :2\n",
      "Enter a[{i}][{j}]:1\n",
      "Enter a[{i}][{j}]:2\n",
      "Enter a[{i}][{j}]:3\n",
      "Enter a[{i}][{j}]:4\n",
      "[[1, 2], [3, 4]]\n",
      "Enter b[{i}][{j}]:5\n",
      "Enter b[{i}][{j}]:6\n",
      "Enter b[{i}][{j}]:7\n",
      "Enter b[{i}][{j}]:8\n",
      "[[1, 2], [3, 4]]\n",
      "[[5, 6], [7, 8]]\n",
      "[[6, 8], [10, 12]]\n"
     ]
    }
   ],
   "source": [
    "##### 1.\tWrite a Python Program to Add Two Matrices?\n",
    "\n",
    "r = int(input(\"Enter no of rows :\"))\n",
    "c = int(input(\"Enter no of columns :\"))\n",
    "a=[]\n",
    "\n",
    "for i in range(r):\n",
    "    t =[]\n",
    "    for j in range (c):\n",
    "        val = int(input(\"Enter a[{i}][{j}]:\"))\n",
    "        t.append(val)\n",
    "    a.append(t)\n",
    "print(a)\n",
    "\n",
    "b=[]\n",
    "\n",
    "for i in range(r):\n",
    "    p =[]\n",
    "    for j in range (c):\n",
    "        val = int(input(\"Enter b[{i}][{j}]:\"))\n",
    "        p.append(val)\n",
    "    b.append(p)\n",
    "print(a)\n",
    "print(b)\n",
    "\n",
    "sum=[]\n",
    "\n",
    "for i in range(r):\n",
    "    q =[]\n",
    "    for j in range(c):\n",
    "        val = a[i][j]+b[i][j]\n",
    "        q.append(val)\n",
    "    sum.append(q)\n",
    "print(sum)\n"
   ]
  },
  {
   "cell_type": "code",
   "execution_count": 11,
   "id": "3e6d8f44",
   "metadata": {},
   "outputs": [
    {
     "name": "stdout",
     "output_type": "stream",
     "text": [
      "[[14, 14, 14], [10, 10, 10]]\n",
      "[[14, 14, 14], [10, 10, 10]]\n"
     ]
    }
   ],
   "source": [
    "##2.\tWrite a Python Program to Multiply Two Matrices?\n",
    "a =[[1,2,3],\n",
    "    [2,1,2]]\n",
    "b= [[1,1,1],\n",
    "   [2,2,2],\n",
    "   [3,3,3]]\n",
    "\n",
    "#2*3 3*3--->2*3\n",
    "\n",
    "c= [[0,0,0],\n",
    "   [0,0,0]]\n",
    "for i in range(0,len(c)):\n",
    "    for j in range(0,len(c[0])):\n",
    "        for k in range(0,len(b)):\n",
    "            c[i][j] += a[i][k] * b[k][j]\n",
    "                \n",
    "for row in c:\n",
    "    print(c)\n",
    "\n",
    "\n"
   ]
  },
  {
   "cell_type": "code",
   "execution_count": 16,
   "id": "7f8e8061",
   "metadata": {},
   "outputs": [
    {
     "name": "stdout",
     "output_type": "stream",
     "text": [
      "[[1, 3], [2, 4]]\n"
     ]
    }
   ],
   "source": [
    "#3.\tWrite a Python Program to Transpose a Matrix?\n",
    "\n",
    "a = [[1,2],\n",
    "    [3,4]]\n",
    "\n",
    "for i in range(0,len(a)):\n",
    "    for j in range(0, len(a[0])):\n",
    "        b[j][i] = a[i][j]\n",
    "print(b)"
   ]
  },
  {
   "cell_type": "code",
   "execution_count": 23,
   "id": "38ac5ff5",
   "metadata": {},
   "outputs": [
    {
     "name": "stdout",
     "output_type": "stream",
     "text": [
      "enter the sentence:I love my India\n",
      "['I', 'India', 'love', 'my']\n"
     ]
    }
   ],
   "source": [
    "#4.\tWrite a Python Program to Sort Words in Alphabetic Order?\n",
    "s = input(\"enter the sentence:\")\n",
    "l= list(s.split())\n",
    "l.sort()\n",
    "print(l)\n",
    "\n",
    "    "
   ]
  },
  {
   "cell_type": "code",
   "execution_count": 27,
   "id": "4e6161e7",
   "metadata": {},
   "outputs": [
    {
     "name": "stdout",
     "output_type": "stream",
     "text": [
      "Enter your string:abs@d u$ybtjb*p\n",
      "absd uybtjbp\n"
     ]
    }
   ],
   "source": [
    "#5.\tWrite a Python Program to Remove Punctuation From a String?\n",
    "punctuations = \"!@#$%^&*()_+}{][]}';:/\\|?><,.\"\n",
    "my_str = input(\"Enter your string:\")\n",
    "no_punc =\"\"\n",
    "for char in my_str:\n",
    "    if char not in punctuations:\n",
    "        no_punc = no_punc+char\n",
    "print(no_punc)"
   ]
  },
  {
   "cell_type": "code",
   "execution_count": null,
   "id": "f11792e3",
   "metadata": {},
   "outputs": [],
   "source": []
  }
 ],
 "metadata": {
  "kernelspec": {
   "display_name": "Python 3 (ipykernel)",
   "language": "python",
   "name": "python3"
  },
  "language_info": {
   "codemirror_mode": {
    "name": "ipython",
    "version": 3
   },
   "file_extension": ".py",
   "mimetype": "text/x-python",
   "name": "python",
   "nbconvert_exporter": "python",
   "pygments_lexer": "ipython3",
   "version": "3.9.7"
  }
 },
 "nbformat": 4,
 "nbformat_minor": 5
}
